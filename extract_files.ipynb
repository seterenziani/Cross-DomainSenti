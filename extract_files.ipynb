{
 "cells": [
  {
   "cell_type": "code",
   "execution_count": 203,
   "metadata": {},
   "outputs": [],
   "source": [
    "import gzip\n",
    "import json\n",
    "import pandas as pd\n",
    "import os.path\n",
    "import numpy as np\n",
    "from sklearn.model_selection import train_test_split"
   ]
  },
  {
   "cell_type": "code",
   "execution_count": 204,
   "metadata": {},
   "outputs": [],
   "source": [
    "def read_data(path): \n",
    "    df = pd.read_json(path, lines = True)\n",
    "    return df \n",
    "\n",
    "def write_file(path, file, df): \n",
    "    df = df.to_dict(orient='record')\n",
    "    pathname = os.path.join(path, file)\n",
    "    outfile = open(pathname, 'w')\n",
    "    for instance in df:\n",
    "        outfile.write(json.dumps(instance) + '\\n')\n",
    "    outfile.close()\n",
    "\n",
    "def sampling_elements(group, k):\n",
    "    if len(group) < k:\n",
    "        return group\n",
    "    return group.sample(k)"
   ]
  },
  {
   "cell_type": "code",
   "execution_count": 205,
   "metadata": {},
   "outputs": [],
   "source": [
    "def process(df): \n",
    "    df['text'] = df['reviewText'] + ' ' + df['summary']\n",
    "    df.loc[df['text'].isnull() == False] \n",
    "    int_list = []\n",
    "    for i in df['overall']: \n",
    "        int_list.append(int(i))\n",
    "    df['overall'] = int_list\n",
    "    df.drop(df.index[df['overall'] == 3], inplace=True)\n",
    "    df.loc[df['overall'] == 5, 'overall'] = 'positive'\n",
    "    df.loc[df['overall'] == 4, 'overall'] = 'positive'\n",
    "    df.loc[df['overall'] == 2, 'overall'] = 'negative'\n",
    "    df.loc[df['overall'] == 1, 'overall'] = 'negative'\n",
    "    df.loc[df['overall'] == 'negative', 'overall'] = 0\n",
    "    df.loc[df['overall'] == 'positive', 'overall'] = 1\n",
    "    df['sentiment'] = df['overall']\n",
    "    data = {'text': df['text'], 'sentiment': df['sentiment']}\n",
    "    df = pd.DataFrame(data=data)\n",
    "    return df     \n",
    "\n",
    "def get_labelled_data(df, k): \n",
    "    df = process(df)\n",
    "    df = df.dropna() \n",
    "    df = df.reset_index(drop=True)\n",
    "    df = df.groupby('sentiment').apply(sampling_elements, k).reset_index(drop=True)\n",
    "    return df\n",
    "\n",
    "def get_unlabelled_data(df, k): \n",
    "    df = process(df)\n",
    "    df['sentiment'] = '-' \n",
    "    df = df.dropna()     \n",
    "    df = df.reset_index(drop=True)\n",
    "    df = df.groupby('sentiment').apply(sampling_elements, k).reset_index(drop=True)\n",
    "    return df"
   ]
  },
  {
   "cell_type": "code",
   "execution_count": 206,
   "metadata": {},
   "outputs": [],
   "source": [
    "def get_one_source(path1, path2, unlabelled_music): \n",
    "    df = read_data(path1)\n",
    "    unlabelled = read_data(path2)\n",
    "    one_source = get_labelled_data(df, 1050)\n",
    "    unlabelled_source = get_unlabelled_data(unlabelled, 4000)\n",
    "    one_source = pd.concat([one_source, unlabelled_source, unlabelled_music])\n",
    "    return one_source\n",
    "\n",
    "def get_two_sources(path1, path2, path3, path4, unlabelled_music): \n",
    "    df1 = read_data(path1)\n",
    "    df2 = read_data(path2)\n",
    "    unlabelled1 = read_data(path3)\n",
    "    unlabelled2 = read_data(path4)\n",
    "    first_source = get_labelled_data(df1, 525)\n",
    "    second_source = get_labelled_data(df2, 525)\n",
    "    unlabelled_first =  get_unlabelled_data(unlabelled1, 4000)\n",
    "    unlabelled_second =  get_unlabelled_data(unlabelled2, 4000)\n",
    "    two_sources =  pd.concat([first_source, second_source, unlabelled_first, unlabelled_second, unlabelled_music])\n",
    "    return two_sources\n",
    "\n",
    "def get_three_sources(path1, path2, path3, path4, path5, path6, unlabelled_target): \n",
    "    df1 = read_data(path1)\n",
    "    df2 = read_data(path2)\n",
    "    df3 = read_data(path3)\n",
    "    unlabelled1 =  read_data(path4)\n",
    "    unlabelled2 =  read_data(path5)\n",
    "    unlabelled3 =  read_data(path6)\n",
    "    first_source = get_labelled_data(df1, 350)\n",
    "    second_source = get_labelled_data(df2, 350)\n",
    "    third_source = get_labelled_data(df3, 350)\n",
    "    \n",
    "    unlabelled_first =  get_unlabelled_data(unlabelled1, 4000)\n",
    "    unlabelled_second =  get_unlabelled_data(unlabelled2, 4000)\n",
    "    unlabelled_third =  get_unlabelled_data(unlabelled2, 4000)\n",
    "    \n",
    "    three_sources =  pd.concat([first_source, second_source, third_source, unlabelled_first, \n",
    "                                unlabelled_second, unlabelled_third, unlabelled_target])\n",
    "    return three_sources\n",
    "\n",
    "def get_target(path1, path2): \n",
    "    target = read_data(path1)\n",
    "    unlabelled = read_data(path2)\n",
    "    target = target.dropna()\n",
    "    target = target.groupby('sentiment').apply(sampling_elements, 2100).reset_index(drop=True)\n",
    "    unlabelled['text'] = unlabelled['reviewText'] + ' ' + unlabelled['summary'] \n",
    "    unlabelled.loc[unlabelled['text'].isnull() == False] \n",
    "    unlabelled['sentiment'] = '-'\n",
    "    unlabelled = unlabelled.groupby('sentiment').apply(sampling_elements, 10000).reset_index(drop=True)\n",
    "    unlabelled = pd.DataFrame({'text': unlabelled['text'], 'sentiment': unlabelled['sentiment']})\n",
    "    return target, unlabelled\n",
    "    \n",
    "    "
   ]
  },
  {
   "cell_type": "code",
   "execution_count": 207,
   "metadata": {},
   "outputs": [],
   "source": [
    "labelled_music, unlabelled_music = get_target('data/raw/music.json', 'data/raw/music_unlabelled.json')"
   ]
  },
  {
   "cell_type": "code",
   "execution_count": 208,
   "metadata": {},
   "outputs": [],
   "source": [
    "target_music = pd.DataFrame({'text':labelled_music['text'].iloc[::2].values, \n",
    "                       'sentiment':labelled_music['sentiment'].iloc[::2].values})\n",
    "\n",
    "source_music = pd.DataFrame({'text':labelled_music['text'].iloc[1::2].values, \n",
    "                       'sentiment':labelled_music['sentiment'].iloc[1::2].values})\n",
    "\n",
    "target_music = target_music.groupby('sentiment').apply(sampling_elements, 110).reset_index(drop=True)"
   ]
  },
  {
   "cell_type": "code",
   "execution_count": 209,
   "metadata": {},
   "outputs": [],
   "source": [
    "unlabelled_books = read_data('data/raw/books_unlabelled.json')\n",
    "unlabelled_books = get_unlabelled_data(unlabelled_books, 4000)\n",
    "\n",
    "unlabelled_electronics = read_data('data/raw/electronics_unlabelled.json')\n",
    "unlabelled_electronics = get_unlabelled_data(unlabelled_electronics, 4000)\n",
    "\n",
    "unlabelled_pet = read_data('data/raw/pet_supplies_unlabelled.json')\n",
    "unlabelled_pet = get_unlabelled_data(unlabelled_pet, 4000)\n",
    "\n",
    "unlabelled_music = unlabelled_music.groupby('sentiment').apply(sampling_elements, 4000).reset_index(drop=True)"
   ]
  },
  {
   "cell_type": "code",
   "execution_count": 210,
   "metadata": {},
   "outputs": [],
   "source": [
    "source_B = get_one_source('data/raw/books.json', 'data/raw/books_unlabelled.json', unlabelled_music)\n",
    "source_E = get_one_source('data/raw/electronics.json', 'data/raw/electronics_unlabelled.json', unlabelled_music)\n",
    "source_P = get_one_source('data/raw/pet_supplies.json', 'data/raw/pet_supplies_unlabelled.json', unlabelled_music)"
   ]
  },
  {
   "cell_type": "code",
   "execution_count": 211,
   "metadata": {},
   "outputs": [],
   "source": [
    "source_BP = get_two_sources('data/raw/books.json', 'data/raw/pet_supplies.json', 'data/raw/books_unlabelled.json', \n",
    "                            'data/raw/pet_supplies_unlabelled.json', unlabelled_music)\n",
    "source_EP = get_two_sources('data/raw/electronics.json', 'data/raw/pet_supplies.json', \n",
    "                            'data/raw/electronics_unlabelled.json',\n",
    "                            'data/raw/pet_supplies_unlabelled.json', unlabelled_music)\n",
    "source_BE = get_two_sources('data/raw/books.json', 'data/raw/electronics.json', 'data/raw/books_unlabelled.json', \n",
    "                            'data/raw/electronics_unlabelled.json', unlabelled_music)"
   ]
  },
  {
   "cell_type": "code",
   "execution_count": 212,
   "metadata": {},
   "outputs": [],
   "source": [
    "source_BEP = get_three_sources('data/raw/books.json', 'data/raw/electronics.json', 'data/raw/pet_supplies.json', \n",
    "                               'data/raw/books_unlabelled.json', 'data/raw/electronics_unlabelled.json', \n",
    "                               'data/raw/pet_supplies_unlabelled.json', unlabelled_music)"
   ]
  },
  {
   "cell_type": "code",
   "execution_count": 213,
   "metadata": {},
   "outputs": [],
   "source": [
    "write_file('data/extracted/', 'source_B.json', source_B)\n",
    "write_file('data/extracted/', 'source_E.json', source_E)\n",
    "write_file('data/extracted/', 'source_P.json', source_P)\n",
    "\n",
    "write_file('data/extracted/', 'source_BP.json', source_BP)\n",
    "write_file('data/extracted/', 'source_EP.json', source_EP)\n",
    "write_file('data/extracted/', 'source_BE.json', source_BE)\n",
    "\n",
    "write_file('data/extracted/', 'source_BEP.json', source_BEP)"
   ]
  },
  {
   "cell_type": "code",
   "execution_count": 214,
   "metadata": {},
   "outputs": [],
   "source": [
    "write_file('data/extracted/', 'target_music.json', target_music)\n",
    "write_file('data/extracted/', 'source_music.json', source_music)"
   ]
  },
  {
   "cell_type": "markdown",
   "metadata": {},
   "source": [
    "-----------------"
   ]
  }
 ],
 "metadata": {
  "kernelspec": {
   "display_name": "Python 3",
   "language": "python",
   "name": "python3"
  },
  "language_info": {
   "codemirror_mode": {
    "name": "ipython",
    "version": 3
   },
   "file_extension": ".py",
   "mimetype": "text/x-python",
   "name": "python",
   "nbconvert_exporter": "python",
   "pygments_lexer": "ipython3",
   "version": "3.8.3"
  }
 },
 "nbformat": 4,
 "nbformat_minor": 4
}
