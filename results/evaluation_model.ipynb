{
 "cells": [
  {
   "cell_type": "code",
   "execution_count": 22,
   "metadata": {},
   "outputs": [],
   "source": [
    "import pandas as pd\n",
    "from tabulate import tabulate\n",
    "from matplotlib import pyplot as plt"
   ]
  },
  {
   "cell_type": "code",
   "execution_count": 8,
   "metadata": {},
   "outputs": [],
   "source": [
    "def read_data(path): \n",
    "    df = pd.read_json(path, lines = True)\n",
    "    return df "
   ]
  },
  {
   "cell_type": "code",
   "execution_count": 86,
   "metadata": {},
   "outputs": [
    {
     "name": "stdout",
     "output_type": "stream",
     "text": [
      "                        Positive    Negative    Unlabeled\n",
      "--------------------  ----------  ----------  -----------\n",
      "Single Source Domain        1050        1050         8000\n",
      "Two Source Domains          1050        1050        12000\n",
      "Three Source Domains        1050        1050        16000\n"
     ]
    }
   ],
   "source": [
    "start = \"\\033[1m\"\n",
    "end = \"\\033[0;0m\"\n",
    "\n",
    "table1 = [['', 'Positive', 'Negative', 'Unlabeled'],\n",
    "         ['Single Source Domain', '1050', '1050', '8000'], \n",
    "         ['Two Source Domains', '1050', '1050', '12000' ],\n",
    "         ['Three Source Domains', '1050', '1050', '16000']]\n",
    "\n",
    "print(tabulate(table1, headers='firstrow'))"
   ]
  },
  {
   "cell_type": "code",
   "execution_count": 9,
   "metadata": {},
   "outputs": [],
   "source": [
    "df = read_data('classification_experiment.json')"
   ]
  },
  {
   "cell_type": "code",
   "execution_count": 15,
   "metadata": {},
   "outputs": [
    {
     "name": "stdout",
     "output_type": "stream",
     "text": [
      "                       Target Domain\n",
      "---------------------  ------------------\n",
      "Proposed Cross-Domain  0.8959276018099541\n",
      "Baseline Cross-Domain  0.7634854771784231\n",
      "\n",
      "Proposed In-Domain     0.9252336448598131\n",
      "Baseline In-Domain     0.805309734513274\n"
     ]
    }
   ],
   "source": [
    "start = \"\\033[1m\"\n",
    "end = \"\\033[0;0m\"\n",
    "\n",
    "table2 = [['', 'Target Domain'],\n",
    "         ['Proposed Cross-Domain', str(df['Accuracy Proposed'][6])], \n",
    "         ['Baseline Cross-Domain', str(df['Accuracy Baseline'][6])], \n",
    "         ['', ''],\n",
    "         ['Proposed In-Domain', str(df['Accuracy Proposed'][7])], \n",
    "         ['Baseline In-Domain', str(df['Accuracy Baseline'][7])]]\n",
    "\n",
    "print(tabulate(table2, headers='firstrow'))"
   ]
  },
  {
   "cell_type": "code",
   "execution_count": 80,
   "metadata": {},
   "outputs": [],
   "source": [
    "names_proposed = df['Proposed Model ID'][0:7]\n",
    "data_proposed = []\n",
    "data_baseline = []\n",
    "\n",
    "for i in range(0,7): \n",
    "    acc_proposed = df['Accuracy Proposed'][i]\n",
    "    acc_baseline = df['Accuracy Baseline'][i]\n",
    "    data_proposed.append(acc_proposed *100)\n",
    "    data_baseline.append(acc_baseline*100)"
   ]
  },
  {
   "cell_type": "code",
   "execution_count": 81,
   "metadata": {},
   "outputs": [
    {
     "data": {
      "text/plain": [
       "(70.0, 95.0)"
      ]
     },
     "execution_count": 81,
     "metadata": {},
     "output_type": "execute_result"
    },
    {
     "data": {
      "image/png": "[encoded data removed]",
      "text/plain": [
       "<Figure size 576x360 with 1 Axes>"
      ]
     },
     "metadata": {
      "needs_background": "light"
     },
     "output_type": "display_data"
    }
   ],
   "source": [
    "import matplotlib.pyplot as plt\n",
    "\n",
    "f, ax = plt.subplots(figsize=(8,5)) # set the size that you'd like (width, height)\n",
    "plt.bar(names_proposed, data_proposed)\n",
    "plt.title('Accuracy Score of Proposed Method over Source Domains')\n",
    "plt.ylabel('Model Accuracy')\n",
    "plt.xlabel('Source Domain')\n",
    "plt.ylim(70, 95)"
   ]
  },
  {
   "cell_type": "code",
   "execution_count": 82,
   "metadata": {},
   "outputs": [
    {
     "data": {
      "text/plain": [
       "(60.0, 80.37037037037037)"
      ]
     },
     "execution_count": 82,
     "metadata": {},
     "output_type": "execute_result"
    },
    {
     "data": {
      "image/png": "[encoded data removed]",
      "text/plain": [
       "<Figure size 576x360 with 1 Axes>"
      ]
     },
     "metadata": {
      "needs_background": "light"
     },
     "output_type": "display_data"
    }
   ],
   "source": [
    "import matplotlib.pyplot as plt\n",
    "\n",
    "f, ax = plt.subplots(figsize=(8,5)) # set the size that you'd like (width, height)\n",
    "plt.bar(names_baseline, data_baseline)\n",
    "plt.title('Accuracy Score of Baseline Method over Dource Domains')\n",
    "plt.ylabel('Model Accuracy')\n",
    "plt.xlabel('Source Domain')\n",
    "plt.ylim(60)"
   ]
  },
  {
   "cell_type": "code",
   "execution_count": null,
   "metadata": {},
   "outputs": [],
   "source": []
  }
 ],
 "metadata": {
  "kernelspec": {
   "display_name": "Python 3",
   "language": "python",
   "name": "python3"
  },
  "language_info": {
   "codemirror_mode": {
    "name": "ipython",
    "version": 3
   },
   "file_extension": ".py",
   "mimetype": "text/x-python",
   "name": "python",
   "nbconvert_exporter": "python",
   "pygments_lexer": "ipython3",
   "version": "3.8.3"
  }
 },
 "nbformat": 4,
 "nbformat_minor": 4
}
