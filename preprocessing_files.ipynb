{
 "cells": [
  {
   "cell_type": "code",
   "execution_count": 36,
   "metadata": {},
   "outputs": [],
   "source": [
    "import pandas as pd \n",
    "import numpy as np\n",
    "import string\n",
    "import nltk\n",
    "from nltk.stem import WordNetLemmatizer\n",
    "from nltk import pos_tag\n",
    "import os.path\n",
    "import json"
   ]
  },
  {
   "cell_type": "code",
   "execution_count": 37,
   "metadata": {},
   "outputs": [],
   "source": [
    "def read_data(path): \n",
    "    df = pd.read_json(path, lines = True)\n",
    "    return df \n",
    "\n",
    "def write_file(path, file, df): \n",
    "    df = df.to_dict(orient='record')\n",
    "    pathname = os.path.join(path, file)\n",
    "    outfile = open(pathname, 'w')\n",
    "    for instance in df:\n",
    "        outfile.write(json.dumps(instance) + '\\n')\n",
    "    outfile.close()"
   ]
  },
  {
   "cell_type": "code",
   "execution_count": 38,
   "metadata": {},
   "outputs": [],
   "source": [
    "def remove_punctuation(text):\n",
    "    punctuationfree=\"\".join([i for i in text if i not in string.punctuation])\n",
    "    return punctuationfree\n",
    "\n",
    "def remove_stopwords(text):\n",
    "    output= [i for i in text if i not in stopwords]\n",
    "    return output\n",
    "\n",
    "def lemmatizer(text):\n",
    "    lemm_text = [wordnet_lemmatizer.lemmatize(word) for word in text]\n",
    "    return lemm_text\n",
    "\n",
    "stopwords = nltk.corpus.stopwords.words('english')\n",
    "wordnet_lemmatizer = WordNetLemmatizer()\n",
    "\n",
    "def get_relevant_words(text):\n",
    "    return [ word for (word,tag) in text if tag.startswith(\"JJ\") \n",
    "            or tag.startswith(\"RB\") or tag.startswith(\"NN\") or tag.startswith(\"VERB\")]"
   ]
  },
  {
   "cell_type": "code",
   "execution_count": 39,
   "metadata": {},
   "outputs": [],
   "source": [
    "def get_unigrams(df): \n",
    "    df['unigrams'] = df['text_tokens']\n",
    "    return df \n",
    "    \n",
    "def get_bigrams(df): \n",
    "    df['sentiment_bigrams'] = df['sentiment_unigrams'].apply(lambda row: list(nltk.ngrams(row, 2)))\n",
    "    return df \n",
    "\n",
    "def get_sentiment(df): \n",
    "    sentiment_tokens = []\n",
    "    for i in range(len(df)):\n",
    "        lst = []\n",
    "        if df['sentiment'][i] == 1: \n",
    "            output_pos = [i + '_pos' for i in df['unigrams'][i]]\n",
    "            lst.append(output_pos)\n",
    "        elif df['sentiment'][i] == 0:\n",
    "            output_neg = [i + '_neg' for i in df['unigrams'][i]]\n",
    "            lst.append(output_neg)\n",
    "        else: \n",
    "            output_net = [i for i in df['unigrams'][i]]\n",
    "            lst.append(output_net)\n",
    "        sentiment_tokens.append(lst)\n",
    "    df['sentiment_unigrams'] = sentiment_tokens\n",
    "    df = flatten_list(df, 'sentiment_unigrams')\n",
    "    return df\n",
    "    \n",
    "def flatten_list(df, column): \n",
    "    lst = []\n",
    "    for i in df[column]:\n",
    "        flatten_lst = []\n",
    "        for j in i: \n",
    "            for item in j: \n",
    "                flatten_lst.append(item)\n",
    "        lst.append(flatten_lst)\n",
    "    df[column] = lst\n",
    "    return df "
   ]
  },
  {
   "cell_type": "code",
   "execution_count": 40,
   "metadata": {},
   "outputs": [],
   "source": [
    "def preprocessing(path): \n",
    "    data = read_data(path)\n",
    "    data = data.dropna()\n",
    "    data['text']= data['text'].apply(lambda x:remove_punctuation(x))\n",
    "    data['text']= data['text'].apply(lambda x: x.lower())\n",
    "    data['unigrams'] = data.apply(lambda row: nltk.word_tokenize(row['text']), axis=1)\n",
    "    data['unigrams']= data['unigrams'].apply(lambda x:remove_stopwords(x))\n",
    "    data['unigrams']=data['unigrams'].apply(lambda x:lemmatizer(x))\n",
    "    data = get_sentiment(data)\n",
    "    data = get_bigrams(data)\n",
    "    return data"
   ]
  },
  {
   "cell_type": "code",
   "execution_count": 41,
   "metadata": {},
   "outputs": [],
   "source": [
    "source_B = preprocessing('data/extracted/source_B.json')\n",
    "source_E = preprocessing('data/extracted/source_E.json')\n",
    "source_P = preprocessing('data/extracted/source_P.json')"
   ]
  },
  {
   "cell_type": "code",
   "execution_count": 42,
   "metadata": {},
   "outputs": [],
   "source": [
    "source_BP = preprocessing('data/extracted/source_BP.json')\n",
    "source_EP = preprocessing('data/extracted/source_EP.json')\n",
    "source_BE = preprocessing('data/extracted/source_BE.json')"
   ]
  },
  {
   "cell_type": "code",
   "execution_count": 43,
   "metadata": {},
   "outputs": [],
   "source": [
    "source_BEP = preprocessing('data/extracted/source_BEP.json')"
   ]
  },
  {
   "cell_type": "code",
   "execution_count": 44,
   "metadata": {},
   "outputs": [],
   "source": [
    "target_music = preprocessing('data/extracted/target_music.json')\n",
    "source_music = preprocessing('data/extracted/source_music.json')"
   ]
  },
  {
   "cell_type": "code",
   "execution_count": 45,
   "metadata": {},
   "outputs": [],
   "source": [
    "write_file('data/processed/', 'source_B.json', source_B)\n",
    "write_file('data/processed/', 'source_E.json', source_E)\n",
    "write_file('data/processed/', 'source_P.json', source_P)\n",
    "\n",
    "write_file('data/processed/', 'source_BP.json', source_BP)\n",
    "write_file('data/processed/', 'source_EP.json', source_EP)\n",
    "write_file('data/processed/', 'source_BE.json', source_BE)\n",
    "\n",
    "write_file('data/processed/', 'source_BEP.json', source_BEP)"
   ]
  },
  {
   "cell_type": "code",
   "execution_count": 46,
   "metadata": {},
   "outputs": [],
   "source": [
    "write_file('data/processed/', 'target_music.json', target_music)\n",
    "write_file('data/processed/', 'source_music.json', source_music)"
   ]
  },
  {
   "cell_type": "markdown",
   "metadata": {},
   "source": [
    "------------"
   ]
  }
 ],
 "metadata": {
  "kernelspec": {
   "display_name": "Python 3",
   "language": "python",
   "name": "python3"
  },
  "language_info": {
   "codemirror_mode": {
    "name": "ipython",
    "version": 3
   },
   "file_extension": ".py",
   "mimetype": "text/x-python",
   "name": "python",
   "nbconvert_exporter": "python",
   "pygments_lexer": "ipython3",
   "version": "3.8.3"
  }
 },
 "nbformat": 4,
 "nbformat_minor": 4
}
